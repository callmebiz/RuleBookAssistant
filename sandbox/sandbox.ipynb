{
 "cells": [
  {
   "cell_type": "code",
   "execution_count": 2,
   "id": "3d887ea8",
   "metadata": {},
   "outputs": [],
   "source": [
    "import os\n",
    "import json"
   ]
  },
  {
   "cell_type": "code",
   "execution_count": 25,
   "id": "c9d5ee6d",
   "metadata": {},
   "outputs": [],
   "source": [
    "keys = json.load(open(\"../config/keys.json\"))"
   ]
  },
  {
   "cell_type": "code",
   "execution_count": 26,
   "id": "a8513c52",
   "metadata": {},
   "outputs": [],
   "source": [
    "os.environ['LANGCHAIN_TRACING'] = 'true'\n",
    "os.environ['LANGCHAIN_ENDPOINT'] = 'https://api.smith.langchain.com'\n",
    "os.environ['LANGCHAIN_API_KEY'] = keys['LANGCHAIN_API_KEY']\n",
    "os.environ['LANGSMITH_PROJECT'] = \"RuleBookAssistant\"\n",
    "os.environ['OPENAI_API_KEY'] = keys['OPENAI_API_KEY']"
   ]
  },
  {
   "cell_type": "code",
   "execution_count": 42,
   "id": "f27421be",
   "metadata": {},
   "outputs": [],
   "source": [
    "from langchain import hub\n",
    "from langchain.text_splitter import RecursiveCharacterTextSplitter\n",
    "from langchain_community.document_loaders import PyPDFLoader, DirectoryLoader\n",
    "from langchain_community.vectorstores import Chroma\n",
    "from langchain_core.output_parsers import StrOutputParser\n",
    "from langchain_core.runnables import RunnablePassthrough\n",
    "from langchain_core.prompts import ChatPromptTemplate\n",
    "from langchain_openai import ChatOpenAI, OpenAIEmbeddings\n",
    "\n",
    "from openai import OpenAI\n",
    "from langsmith.wrappers import wrap_openai\n",
    "import re"
   ]
  },
  {
   "cell_type": "code",
   "execution_count": 11,
   "id": "20768678",
   "metadata": {},
   "outputs": [],
   "source": [
    "class DocumentLoader:\n",
    "    \"\"\"Handles loading and processing D&D PDF rulebooks using LangChain.\"\"\"\n",
    "    \n",
    "    def __init__(self, output_dir):\n",
    "        self.output_dir = output_dir\n",
    "        os.makedirs(output_dir, exist_ok=True)\n",
    "        \n",
    "        # Configure text splitter for chunking\n",
    "        self.text_splitter = RecursiveCharacterTextSplitter(\n",
    "            chunk_size=1000,\n",
    "            chunk_overlap=200,\n",
    "            length_function=len,\n",
    "            is_separator_regex=False,\n",
    "        )\n",
    "    \n",
    "    def load_pdf(self, pdf_path):\n",
    "        \"\"\"Load a single PDF file using LangChain's loader.\"\"\"\n",
    "        print(f\"Loading {pdf_path}...\")\n",
    "        loader = PyPDFLoader(pdf_path)\n",
    "        documents = loader.load()\n",
    "        \n",
    "        # Add source metadata\n",
    "        source_name = os.path.basename(pdf_path)\n",
    "        for doc in documents:\n",
    "            doc.metadata[\"source\"] = source_name\n",
    "            # Clean up potential page headers/footers\n",
    "            doc.page_content = self._clean_text(doc.page_content)\n",
    "        \n",
    "        print(f\"Loaded {len(documents)} pages from {source_name}\")\n",
    "        return documents\n",
    "    \n",
    "    def load_directory(self, directory_path, glob_pattern=\"**/*.pdf\"):\n",
    "        \"\"\"Load all PDFs in a directory using LangChain's DirectoryLoader.\"\"\"\n",
    "        print(f\"Loading PDFs from {directory_path}...\")\n",
    "        loader = DirectoryLoader(directory_path, glob=glob_pattern, loader_cls=PyPDFLoader)\n",
    "        documents = loader.load()\n",
    "        \n",
    "        # Add additional metadata and clean text\n",
    "        for doc in documents:\n",
    "            # Clean text\n",
    "            doc.page_content = self._clean_text(doc.page_content)\n",
    "        \n",
    "        print(f\"Loaded {len(documents)} total pages from {directory_path}\")\n",
    "        return documents\n",
    "    \n",
    "    def split_documents(self, documents):\n",
    "        \"\"\"Split documents into chunks using the text splitter.\"\"\"\n",
    "        print(f\"Splitting {len(documents)} documents into chunks...\")\n",
    "        chunks = self.text_splitter.split_documents(documents)\n",
    "        print(f\"Created {len(chunks)} chunks\")\n",
    "        return chunks\n",
    "    \n",
    "    def _clean_text(self, text):\n",
    "        \"\"\"Clean and normalize extracted text.\"\"\"\n",
    "        # Remove headers/footers\n",
    "        lines = text.split('\\n')\n",
    "        filtered_lines = [line for line in lines if len(line.strip()) > 1]\n",
    "        \n",
    "        # Remove excessive whitespace\n",
    "        text = '\\n'.join(filtered_lines)\n",
    "        text = re.sub(r'\\n{3,}', '\\n\\n', text)\n",
    "        text = re.sub(r' {2,}', ' ', text)\n",
    "        \n",
    "        return text\n",
    "    \n",
    "    def process_pdf(self, pdf_path):\n",
    "        \"\"\"Process a single PDF: load and split into chunks.\"\"\"\n",
    "        documents = self.load_pdf(pdf_path)\n",
    "        chunks = self.split_documents(documents)\n",
    "        return chunks\n",
    "    \n",
    "    def process_directory(self, directory_path):\n",
    "        \"\"\"Process all PDFs in a directory: load and split into chunks.\"\"\"\n",
    "        documents = self.load_directory(directory_path)\n",
    "        chunks = self.split_documents(documents)\n",
    "        return chunks"
   ]
  },
  {
   "cell_type": "code",
   "execution_count": 12,
   "id": "d1316a28",
   "metadata": {},
   "outputs": [],
   "source": [
    "doc_loader = DocumentLoader(output_dir=\"../data/processed\")\n"
   ]
  },
  {
   "cell_type": "code",
   "execution_count": 13,
   "id": "78c3733b",
   "metadata": {},
   "outputs": [
    {
     "name": "stdout",
     "output_type": "stream",
     "text": [
      "Loading PDFs from ../data/raw...\n",
      "Loaded 967 total pages from ../data/raw\n",
      "Splitting 967 documents into chunks...\n",
      "Created 4749 chunks\n"
     ]
    }
   ],
   "source": [
    "raw_data_path = \"../data/raw\"\n",
    "pdfs = os.listdir(raw_data_path)\n",
    "splits = doc_loader.process_directory(raw_data_path)"
   ]
  },
  {
   "cell_type": "code",
   "execution_count": 14,
   "id": "3d7bfaf8",
   "metadata": {},
   "outputs": [],
   "source": [
    "vectorstore = Chroma.from_documents(\n",
    "    documents=splits,\n",
    "    embedding=OpenAIEmbeddings(),\n",
    "    persist_directory=\"../data/vectorstore\",\n",
    ")"
   ]
  },
  {
   "cell_type": "code",
   "execution_count": 28,
   "id": "e9bad0e4",
   "metadata": {},
   "outputs": [],
   "source": [
    "retriever = vectorstore.as_retriever()"
   ]
  },
  {
   "cell_type": "code",
   "execution_count": 46,
   "id": "ce5c0dfb",
   "metadata": {},
   "outputs": [],
   "source": [
    "# prompt = hub.pull(\"RuleBookAssistant\")\n",
    "prompt = ChatPromptTemplate.from_messages([\n",
    "    (\"system\", \"You are a helpful assistant. Please respond to the user's request only based on the given context. Give references and page numbers where applicable.\"),\n",
    "    (\"user\", \"Question: {question}\\nContext: {context}\")\n",
    "])\n",
    "model = ChatOpenAI(model=\"gpt-4o-mini\")\n",
    "output_parser = StrOutputParser()"
   ]
  },
  {
   "cell_type": "code",
   "execution_count": null,
   "id": "70cd45e8",
   "metadata": {},
   "outputs": [],
   "source": [
    "# Chain\n",
    "rag_chain = (\n",
    "    {\"context\": retriever, \"question\": RunnablePassthrough()}\n",
    "    | prompt\n",
    "    | model\n",
    "    | StrOutputParser()\n",
    ")"
   ]
  },
  {
   "cell_type": "code",
   "execution_count": 48,
   "id": "8680c67e",
   "metadata": {},
   "outputs": [
    {
     "data": {
      "text/plain": [
       "\"Campaigns can take place in various locations, each serving unique narrative and gameplay purposes. Here are some examples drawn from the context:\\n\\n1. **Towns or Cities**: A campaign can center on a particular town or city, which serves as a home base for the characters. This setting can foster emotional ties, especially if the players have NPCs they care about in that location (page 15).\\n\\n2. **Dungeons**: Starting a campaign in the dungeons of an evil baron's castle is another option. This setting can thrust characters immediately into the action and adventure (page 26).\\n\\n3. **Villages or Wilderness Edges**: A village at the edge of the wilderness can serve as a home base, particularly in campaigns that explore more rural or natural themes (page 25).\\n\\n4. **Regional Landscapes**: Filling in a local region around the home base, including dungeons or adventure locales, can enrich the campaign experience. This approach allows for exploration of nearby settlements and wilderness (page 25).\\n\\n5. **Crumbling Dungeons and Remote Wilderness**: These classic settings are staple choices for many D&D adventures, encapsulating the core of location-based adventures (page 72).\\n\\nEach of these settings provides a different atmosphere and can influence the journey and experiences of the adventurers.\""
      ]
     },
     "execution_count": 48,
     "metadata": {},
     "output_type": "execute_result"
    }
   ],
   "source": [
    "rag_chain.invoke(\"What some different locations campaigns can take place?\")"
   ]
  },
  {
   "cell_type": "code",
   "execution_count": 52,
   "id": "d0f2e3db",
   "metadata": {},
   "outputs": [
    {
     "data": {
      "text/plain": [
       "\"Resting in the context of adventuring is crucial for characters to recover and maintain their effectiveness. There are two primary types of rests: short rests and long rests.\\n\\n### Short Rest\\nA short rest is a period of downtime lasting at least 1 hour. During this time, characters can eat, drink, read, and tend to their wounds but cannot engage in strenuous activities. At the end of a short rest, characters can spend Hit Dice (up to their maximum, which equals their character level) to regain hit points. Each Hit Die spent allows the player to roll the die and add their Constitution modifier to the total, thus regaining hit points. Characters can choose to spend additional Hit Dice after each roll, up to their limit.\\n\\n### Long Rest\\nA long rest requires at least 8 hours of downtime, during which a character can sleep or engage in light activities such as reading or talking but cannot perform strenuous activities for more than 2 hours. If a long rest is interrupted by strenuous activity (like combat or walking for more than 1 hour), the characters must start their rest over to gain any benefits. Upon completing a long rest, characters regain all lost hit points and can recover spent Hit Dice, up to half their total number of Hit Dice (e.g., if a character has eight Hit Dice, they can regain four). Additionally, a character can only benefit from one long rest in a 24-hour period.\\n\\nIn summary, resting is essential for characters' recovery, enabling them to recover hit points and regain Hit Dice, preparing them for subsequent challenges in their adventures (Player's Handbook, pages 170-172).\""
      ]
     },
     "execution_count": 52,
     "metadata": {},
     "output_type": "execute_result"
    }
   ],
   "source": [
    "rag_chain.invoke(\"How does resting work?\")"
   ]
  },
  {
   "cell_type": "code",
   "execution_count": 55,
   "id": "769413e4",
   "metadata": {},
   "outputs": [
    {
     "data": {
      "text/plain": [
       "\"A player can surprise an enemy by utilizing stealth tactics, for instance, by hiding and sneaking up on them without being detected. The Dungeon Master (DM) determines if a surprise occurs during a combat encounter based on the stealth checks of the players compared to the passive perception of the enemies. If successful, the surprised side does not get to take actions during the first round of combat, which can provide the players with a significant tactical advantage (Player's Handbook, page 172).\\n\\nSurprising an enemy can lead to several benefits, such as gaining the initiative in combat, allowing the surprise-attacking players to act first and potentially eliminate threats before they can respond. Additionally, it can disrupt the enemy's plans and instill fear, potentially causing them to falter or react unpredictably (Player's Handbook, page 173). \\n\\nOverall, employing strategies to gain surprise can give players both a narrative and mechanical edge in their encounters.\""
      ]
     },
     "execution_count": 55,
     "metadata": {},
     "output_type": "execute_result"
    }
   ],
   "source": [
    "rag_chain.invoke(\"How can a player surprise and enemy? What does that do?\")"
   ]
  }
 ],
 "metadata": {
  "kernelspec": {
   "display_name": "ruleBookAssistant",
   "language": "python",
   "name": "python3"
  },
  "language_info": {
   "codemirror_mode": {
    "name": "ipython",
    "version": 3
   },
   "file_extension": ".py",
   "mimetype": "text/x-python",
   "name": "python",
   "nbconvert_exporter": "python",
   "pygments_lexer": "ipython3",
   "version": "3.11.11"
  }
 },
 "nbformat": 4,
 "nbformat_minor": 5
}
